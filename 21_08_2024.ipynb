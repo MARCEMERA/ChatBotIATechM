{
  "nbformat": 4,
  "nbformat_minor": 0,
  "metadata": {
    "colab": {
      "provenance": [],
      "authorship_tag": "ABX9TyMsl3roeF8vdu4/G2Ao/072",
      "include_colab_link": true
    },
    "kernelspec": {
      "name": "python3",
      "display_name": "Python 3"
    },
    "language_info": {
      "name": "python"
    }
  },
  "cells": [
    {
      "cell_type": "markdown",
      "metadata": {
        "id": "view-in-github",
        "colab_type": "text"
      },
      "source": [
        "<a href=\"https://colab.research.google.com/github/MARCEMERA/ChatBotIATechM/blob/main/21_08_2024.ipynb\" target=\"_parent\"><img src=\"https://colab.research.google.com/assets/colab-badge.svg\" alt=\"Open In Colab\"/></a>"
      ]
    },
    {
      "cell_type": "code",
      "execution_count": null,
      "metadata": {
        "colab": {
          "base_uri": "https://localhost:8080/"
        },
        "id": "dfB338Oshb9f",
        "outputId": "d35de1cf-b854-4800-8903-7a9926c3910c"
      },
      "outputs": [
        {
          "output_type": "stream",
          "name": "stdout",
          "text": [
            "Digite su edad en años75\n",
            "Ya no puede conducir\n"
          ]
        }
      ],
      "source": [
        "# Condicional Elif\n",
        "edad = int(input (\"Digite su edad en años\"))\n",
        "\n",
        "if edad <=16:\n",
        "  print (\"todavia no puede conducir\")\n",
        "elif edad <18:\n",
        "  print(\"puede obtener el permiso para conducir B2 y C1\")\n",
        "elif edad <=70:\n",
        "  print(\"puede obtener la licencia clase B2\")\n",
        "elif edad >70 and edad <75:\n",
        "  print(\"solo puede renovar la licencia B2\")\n",
        "else:\n",
        "  print(\"Ya no puede conducir\")"
      ]
    },
    {
      "cell_type": "code",
      "source": [
        "import numpy as np\n",
        "\n",
        "x=np.array([0,1,2,3])\n"
      ],
      "metadata": {
        "id": "yrRLidadmycL"
      },
      "execution_count": null,
      "outputs": []
    },
    {
      "cell_type": "markdown",
      "source": [
        "# Bucles(FOR,WHILE)\n"
      ],
      "metadata": {
        "id": "qzwDE3Iynp55"
      }
    },
    {
      "cell_type": "code",
      "source": [
        "from re import X\n",
        "Lista = \"Me encanta programar\"\n",
        "x=[0,1,2,3]\n",
        "for i in Lista:\n",
        "  print(i)\n"
      ],
      "metadata": {
        "colab": {
          "base_uri": "https://localhost:8080/"
        },
        "id": "kKx8GEY2ny1B",
        "outputId": "3f971307-6abf-4afd-9ced-9dc8ec67cc1c"
      },
      "execution_count": null,
      "outputs": [
        {
          "output_type": "stream",
          "name": "stdout",
          "text": [
            "M\n",
            "e\n",
            " \n",
            "e\n",
            "n\n",
            "c\n",
            "a\n",
            "n\n",
            "t\n",
            "a\n",
            " \n",
            "p\n",
            "r\n",
            "o\n",
            "g\n",
            "r\n",
            "a\n",
            "m\n",
            "a\n",
            "r\n"
          ]
        }
      ]
    },
    {
      "cell_type": "code",
      "source": [
        "\n",
        "for i in range(11):\n",
        "  print(f\"el exponente de i:{i} es {i**2} y la suma de i es {i+i}\")"
      ],
      "metadata": {
        "colab": {
          "base_uri": "https://localhost:8080/"
        },
        "id": "5WIn0AKIra0a",
        "outputId": "cf95a9da-a4bd-487e-e233-f30f844be3f4"
      },
      "execution_count": null,
      "outputs": [
        {
          "output_type": "stream",
          "name": "stdout",
          "text": [
            "el exponente de i:0 es 0 y la suma de i es 0\n",
            "el exponente de i:1 es 1 y la suma de i es 2\n",
            "el exponente de i:2 es 4 y la suma de i es 4\n",
            "el exponente de i:3 es 9 y la suma de i es 6\n",
            "el exponente de i:4 es 16 y la suma de i es 8\n",
            "el exponente de i:5 es 25 y la suma de i es 10\n",
            "el exponente de i:6 es 36 y la suma de i es 12\n",
            "el exponente de i:7 es 49 y la suma de i es 14\n",
            "el exponente de i:8 es 64 y la suma de i es 16\n",
            "el exponente de i:9 es 81 y la suma de i es 18\n",
            "el exponente de i:10 es 100 y la suma de i es 20\n"
          ]
        }
      ]
    },
    {
      "cell_type": "code",
      "source": [
        "for i in range(0,13,2):\n",
        "  print(f\"el exponente de i:{i} es {i**2} y la suma de i es {i+i}\")\n",
        "\n"
      ],
      "metadata": {
        "colab": {
          "base_uri": "https://localhost:8080/"
        },
        "id": "FkPyoZaNtSZn",
        "outputId": "fe45f005-d5ca-438c-9d49-68cfe87c789e"
      },
      "execution_count": null,
      "outputs": [
        {
          "output_type": "stream",
          "name": "stdout",
          "text": [
            "el exponente de i:0 es 0 y la suma de i es 0\n",
            "el exponente de i:2 es 4 y la suma de i es 4\n",
            "el exponente de i:4 es 16 y la suma de i es 8\n",
            "el exponente de i:6 es 36 y la suma de i es 12\n",
            "el exponente de i:8 es 64 y la suma de i es 16\n",
            "el exponente de i:10 es 100 y la suma de i es 20\n",
            "el exponente de i:12 es 144 y la suma de i es 24\n"
          ]
        }
      ]
    },
    {
      "cell_type": "code",
      "source": [],
      "metadata": {
        "id": "-jGr3DtjyVrc"
      },
      "execution_count": null,
      "outputs": []
    },
    {
      "cell_type": "code",
      "source": [
        "for i in range(4,9):\n",
        "  print(f\"el exponente de i:{i} es {i**2} y la suma de i es {i+i}\")"
      ],
      "metadata": {
        "id": "wzXklRMmuPAx"
      },
      "execution_count": null,
      "outputs": []
    },
    {
      "cell_type": "markdown",
      "source": [
        "# Uso del bucle WHILE"
      ],
      "metadata": {
        "id": "SkNCji2fyQ2V"
      }
    },
    {
      "cell_type": "code",
      "source": [
        "a = 0\n",
        "\n",
        "while a< 10:fo\n",
        " print(a)\n",
        " a = a+1\n",
        "print(\"El bucle ha finalizado\")\n",
        "\n"
      ],
      "metadata": {
        "colab": {
          "base_uri": "https://localhost:8080/"
        },
        "id": "NNMtvwtvycmz",
        "outputId": "e548a7ba-2775-461c-e914-d6faf6f89ca6"
      },
      "execution_count": null,
      "outputs": [
        {
          "output_type": "stream",
          "name": "stdout",
          "text": [
            "0\n",
            "1\n",
            "2\n",
            "3\n",
            "4\n",
            "5\n",
            "6\n",
            "7\n",
            "8\n",
            "9\n",
            "El bucle ha finalizado\n"
          ]
        }
      ]
    },
    {
      "cell_type": "code",
      "source": [
        "a=10\n",
        "\n",
        "b=20\n",
        "c=a+b\n",
        "print(c)"
      ],
      "metadata": {
        "colab": {
          "base_uri": "https://localhost:8080/"
        },
        "id": "8h4nnu5pIEyy",
        "outputId": "1277bde4-ad89-48f7-f491-1df47fda97b2"
      },
      "execution_count": 2,
      "outputs": [
        {
          "output_type": "stream",
          "name": "stdout",
          "text": [
            "30\n"
          ]
        }
      ]
    },
    {
      "cell_type": "code",
      "source": [
        "def suma (a,b):\n",
        "    c=a+b\n",
        "    print(c)\n",
        "suma(5,2)"
      ],
      "metadata": {
        "colab": {
          "base_uri": "https://localhost:8080/"
        },
        "id": "U8mNRZGgJyTs",
        "outputId": "e7a264ea-82f4-4473-d83b-8e1d0e2119ec"
      },
      "execution_count": 9,
      "outputs": [
        {
          "output_type": "stream",
          "name": "stdout",
          "text": [
            "7\n"
          ]
        }
      ]
    },
    {
      "cell_type": "code",
      "source": [
        "def multiplicar(a,b):\n",
        "    c=a*b\n",
        "    print(c)\n",
        "multiplicar(4,2)\n",
        "#"
      ],
      "metadata": {
        "colab": {
          "base_uri": "https://localhost:8080/"
        },
        "id": "ljikv1XoLZ50",
        "outputId": "ff828471-0089-4527-ae3d-51cf76cc5f82"
      },
      "execution_count": 10,
      "outputs": [
        {
          "output_type": "stream",
          "name": "stdout",
          "text": [
            "8\n"
          ]
        }
      ]
    },
    {
      "cell_type": "code",
      "source": [
        "# prompt: crea un programa en python empleando una funcion para que realice la tarea de sumar el contenido de una lista\n",
        "\n",
        "import numpy as np\n",
        "from re import X\n",
        "# Condicional Elif\n",
        "edad = int(input (\"Digite su edad en años\"))\n",
        "\n",
        "if edad <=16:\n",
        "  print (\"todavia no puede conducir\")\n",
        "elif edad <18:\n",
        "  print(\"puede obtener el permiso para conducir B2 y C1\")\n",
        "elif edad <=70:\n",
        "  print(\"puede obtener la licencia clase B2\")\n",
        "elif edad >70 and edad <75:\n",
        "  print(\"solo puede renovar la licencia B2\")\n",
        "else:\n",
        "  print(\"Ya no puede conducir\")\n",
        "\n",
        "x=np.array([0,1,2,3])\n",
        "\n",
        "# # Bucles(FOR,WHILE)\n",
        "#\n",
        "Lista = \"Me encanta programar\"\n",
        "x=[0,1,2,3]\n",
        "for i in Lista:\n",
        "  print(i)\n",
        "\n",
        "\n",
        "for i in range(11):\n",
        "  print(f\"el exponente de i:{i} es {i**2} y la suma de i es {i+i}\")\n",
        "for i in range(0,13,2):\n",
        "  print(f\"el exponente de i:{i} es {i**2} y la suma de i es {i+i}\")\n",
        "\n",
        "\n",
        "for i in range(4,9):\n",
        "  print(f\"el exponente de i:{i} es {i**2} y la suma de i es {i+i}\")\n",
        "# # Uso del bucle WHILE\n",
        "a = 0\n",
        "\n",
        "while a< 10:\n",
        "  print(a)\n",
        "  a = a+1\n",
        "print(\"El bucle ha finalizado\")\n",
        "\n",
        "\n",
        "a=10\n",
        "\n",
        "b=20\n",
        "c=a+b\n",
        "print(c)\n",
        "def suma (a,b):\n",
        "    c=a+b\n",
        "    print(c)\n",
        "suma(5,2)\n",
        "def multiplicar(a,b):\n",
        "    c=a*b\n",
        "    print(c)\n",
        "multiplicar(4,2)\n",
        "#\n",
        "\n",
        "def sumar_lista(lista):\n",
        "  \"\"\"\n",
        "  Esta función suma el contenido de una lista.\n",
        "\n",
        "  Args:\n",
        "    lista: La lista de números a sumar.\n",
        "\n",
        "  Returns:\n",
        "    La suma de los elementos de la lista.\n",
        "  \"\"\"\n",
        "  suma = 0\n",
        "  for numero in lista:\n",
        "    suma += numero\n",
        "  return suma\n",
        "\n",
        "# Ejemplo de uso\n",
        "mi_lista = [1, 2, 3, 4, 5]\n",
        "resultado = sumar_lista(mi_lista)\n",
        "print(f\"La suma de los elementos de la lista es: {resultado}\")\n"
      ],
      "metadata": {
        "colab": {
          "base_uri": "https://localhost:8080/"
        },
        "id": "h1uxS5gtLkry",
        "outputId": "aeef88dd-c21a-4904-aa78-2ec08c78a974"
      },
      "execution_count": 11,
      "outputs": [
        {
          "output_type": "stream",
          "name": "stdout",
          "text": [
            "Digite su edad en años45\n",
            "puede obtener la licencia clase B2\n",
            "M\n",
            "e\n",
            " \n",
            "e\n",
            "n\n",
            "c\n",
            "a\n",
            "n\n",
            "t\n",
            "a\n",
            " \n",
            "p\n",
            "r\n",
            "o\n",
            "g\n",
            "r\n",
            "a\n",
            "m\n",
            "a\n",
            "r\n",
            "el exponente de i:0 es 0 y la suma de i es 0\n",
            "el exponente de i:1 es 1 y la suma de i es 2\n",
            "el exponente de i:2 es 4 y la suma de i es 4\n",
            "el exponente de i:3 es 9 y la suma de i es 6\n",
            "el exponente de i:4 es 16 y la suma de i es 8\n",
            "el exponente de i:5 es 25 y la suma de i es 10\n",
            "el exponente de i:6 es 36 y la suma de i es 12\n",
            "el exponente de i:7 es 49 y la suma de i es 14\n",
            "el exponente de i:8 es 64 y la suma de i es 16\n",
            "el exponente de i:9 es 81 y la suma de i es 18\n",
            "el exponente de i:10 es 100 y la suma de i es 20\n",
            "el exponente de i:0 es 0 y la suma de i es 0\n",
            "el exponente de i:2 es 4 y la suma de i es 4\n",
            "el exponente de i:4 es 16 y la suma de i es 8\n",
            "el exponente de i:6 es 36 y la suma de i es 12\n",
            "el exponente de i:8 es 64 y la suma de i es 16\n",
            "el exponente de i:10 es 100 y la suma de i es 20\n",
            "el exponente de i:12 es 144 y la suma de i es 24\n",
            "el exponente de i:4 es 16 y la suma de i es 8\n",
            "el exponente de i:5 es 25 y la suma de i es 10\n",
            "el exponente de i:6 es 36 y la suma de i es 12\n",
            "el exponente de i:7 es 49 y la suma de i es 14\n",
            "el exponente de i:8 es 64 y la suma de i es 16\n",
            "0\n",
            "1\n",
            "2\n",
            "3\n",
            "4\n",
            "5\n",
            "6\n",
            "7\n",
            "8\n",
            "9\n",
            "El bucle ha finalizado\n",
            "30\n",
            "7\n",
            "8\n",
            "La suma de los elementos de la lista es: 15\n"
          ]
        }
      ]
    },
    {
      "cell_type": "code",
      "source": [],
      "metadata": {
        "id": "o0DxWSnCO2G8"
      },
      "execution_count": null,
      "outputs": []
    },
    {
      "cell_type": "code",
      "source": [
        "def suma_lista(lista):\n",
        "  suma = 0\n",
        "  for numero in lista:\n",
        "    suma= suma+ numero\n",
        "  return suma\n",
        "\n",
        "#mi_lista = [1, 2, 3, 4, 5]\n",
        "#resultado = suma_lista(mi_lista)\n",
        "#print(resultado) # salida: 15\n",
        "mi_lista2 = [1, 2, 3, 4, 5,15,16,17]\n",
        "resultado = suma_lista(mi_lista)\n",
        "print(resultado)"
      ],
      "metadata": {
        "colab": {
          "base_uri": "https://localhost:8080/"
        },
        "id": "DpCRspAUPNyc",
        "outputId": "a52e6bc9-c1c0-45cb-ebfb-b384ea068b1e"
      },
      "execution_count": 21,
      "outputs": [
        {
          "output_type": "stream",
          "name": "stdout",
          "text": [
            "15\n"
          ]
        }
      ]
    },
    {
      "cell_type": "code",
      "source": [
        "mi_lista2 = [1, 2, 3, 4, 5,15,16,17]\n",
        "resultado = suma_lista(mi_lista2)\n",
        "print(resultado)"
      ],
      "metadata": {
        "colab": {
          "base_uri": "https://localhost:8080/"
        },
        "id": "ztpU6jXmQYzg",
        "outputId": "2153ab2a-8a52-4366-c16a-21b4208ddcc1"
      },
      "execution_count": 22,
      "outputs": [
        {
          "output_type": "stream",
          "name": "stdout",
          "text": [
            "63\n"
          ]
        }
      ]
    },
    {
      "cell_type": "code",
      "source": [
        "def multiplicar (numero):\n",
        "       numero *=2\n",
        "n=10\n",
        "multiplicar(n)\n",
        "print(n)"
      ],
      "metadata": {
        "colab": {
          "base_uri": "https://localhost:8080/"
        },
        "id": "6pCyghEbSyzV",
        "outputId": "51535f53-6d67-4f6f-c157-1e1c80b527ac"
      },
      "execution_count": 23,
      "outputs": [
        {
          "output_type": "stream",
          "name": "stdout",
          "text": [
            "10\n"
          ]
        }
      ]
    },
    {
      "cell_type": "code",
      "source": [
        "def operacion (ns):\n",
        "              return ns-1\n",
        "ns=5\n",
        "ns=operacion(ns)\n",
        "print(ns)"
      ],
      "metadata": {
        "colab": {
          "base_uri": "https://localhost:8080/"
        },
        "id": "mN06fAekS-8P",
        "outputId": "9ff99726-3268-4c95-912f-3a22e3026a93"
      },
      "execution_count": 24,
      "outputs": [
        {
          "output_type": "stream",
          "name": "stdout",
          "text": [
            "4\n"
          ]
        }
      ]
    },
    {
      "cell_type": "code",
      "source": [
        "def multiplicar(numeros):\n",
        "  for i, n in enumerate(numeros):\n",
        "    numeros[i] *=2\n",
        "  return numeros\n",
        "\n",
        "ns=[10,50,100]\n",
        "  #[:] = copia de ns\n",
        "multiplicar(ns)\n",
        "#multiplicar(ns[:])\n",
        "print(ns) > 0"
      ],
      "metadata": {
        "colab": {
          "base_uri": "https://localhost:8080/"
        },
        "id": "77XTxQC-Vj6o",
        "outputId": "b1d2d115-3c31-41b0-e3ea-fda276f011c4"
      },
      "execution_count": 35,
      "outputs": [
        {
          "output_type": "stream",
          "name": "stdout",
          "text": [
            "[20, 100, 200]\n"
          ]
        }
      ]
    },
    {
      "cell_type": "code",
      "source": [
        "try:\n",
        "  n=float(input(\"introducir un numero\"))\n",
        "  m=4\n",
        "  r=n/m\n",
        "  print(f\"{r}\")\n",
        "except:\n",
        "  print(\"Ha ocurrido un error, solo puedes introducir numeros\")"
      ],
      "metadata": {
        "colab": {
          "base_uri": "https://localhost:8080/"
        },
        "id": "ImvRPqogd5su",
        "outputId": "3f104d24-4d60-4cde-9ccc-264e9d2cd39e"
      },
      "execution_count": 46,
      "outputs": [
        {
          "output_type": "stream",
          "name": "stdout",
          "text": [
            "introducir un numerob\n",
            "Ha ocurrido un error, solo puedes introducir numeros\n"
          ]
        }
      ]
    },
    {
      "cell_type": "code",
      "source": [
        "while(True):\n",
        "  try:\n",
        "    n=float(input(\"introducir un numero\"))\n",
        "    m=4\n",
        "    r=n/m\n",
        "    print(f\"{r}\")\n",
        "    break\n",
        "  except:\n",
        "    print(\"Ha ocurrido un error, solo puedes introducir numeros\")"
      ],
      "metadata": {
        "colab": {
          "base_uri": "https://localhost:8080/"
        },
        "id": "CErJc1O6hQdR",
        "outputId": "65a7f76f-5b55-4e1f-fa04-86c06ff57f30"
      },
      "execution_count": 47,
      "outputs": [
        {
          "output_type": "stream",
          "name": "stdout",
          "text": [
            "introducir un numeroj\n",
            "Ha ocurrido un error, solo puedes introducir numeros\n",
            "introducir un numero65\n",
            "16.25\n"
          ]
        }
      ]
    },
    {
      "cell_type": "code",
      "source": [],
      "metadata": {
        "id": "E-i28AVlhDga"
      },
      "execution_count": null,
      "outputs": []
    }
  ]
}